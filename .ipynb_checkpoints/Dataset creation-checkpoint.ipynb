{
 "cells": [
  {
   "cell_type": "code",
   "execution_count": 1,
   "metadata": {},
   "outputs": [],
   "source": [
    "import pandas as pd\n",
    "import glob\n",
    "from shutil import copy"
   ]
  },
  {
   "cell_type": "code",
   "execution_count": 2,
   "metadata": {},
   "outputs": [
    {
     "data": {
      "text/html": [
       "<div>\n",
       "<style scoped>\n",
       "    .dataframe tbody tr th:only-of-type {\n",
       "        vertical-align: middle;\n",
       "    }\n",
       "\n",
       "    .dataframe tbody tr th {\n",
       "        vertical-align: top;\n",
       "    }\n",
       "\n",
       "    .dataframe thead th {\n",
       "        text-align: right;\n",
       "    }\n",
       "</style>\n",
       "<table border=\"1\" class=\"dataframe\">\n",
       "  <thead>\n",
       "    <tr style=\"text-align: right;\">\n",
       "      <th></th>\n",
       "      <th>ID</th>\n",
       "      <th>SEX</th>\n",
       "      <th>SUBSET</th>\n",
       "      <th>MINUTES</th>\n",
       "      <th>NAME</th>\n",
       "    </tr>\n",
       "  </thead>\n",
       "  <tbody>\n",
       "    <tr>\n",
       "      <th>0</th>\n",
       "      <td>14</td>\n",
       "      <td>F</td>\n",
       "      <td>train-clean-360</td>\n",
       "      <td>25.03</td>\n",
       "      <td>KristinLeMoine</td>\n",
       "    </tr>\n",
       "    <tr>\n",
       "      <th>1</th>\n",
       "      <td>16</td>\n",
       "      <td>F</td>\n",
       "      <td>train-clean-360</td>\n",
       "      <td>25.11</td>\n",
       "      <td>AlysAtteWater</td>\n",
       "    </tr>\n",
       "    <tr>\n",
       "      <th>2</th>\n",
       "      <td>17</td>\n",
       "      <td>M</td>\n",
       "      <td>train-clean-360</td>\n",
       "      <td>25.04</td>\n",
       "      <td>GordMackenzie</td>\n",
       "    </tr>\n",
       "    <tr>\n",
       "      <th>3</th>\n",
       "      <td>19</td>\n",
       "      <td>F</td>\n",
       "      <td>train-clean-100</td>\n",
       "      <td>25.19</td>\n",
       "      <td>KaraShallenberg</td>\n",
       "    </tr>\n",
       "    <tr>\n",
       "      <th>4</th>\n",
       "      <td>20</td>\n",
       "      <td>F</td>\n",
       "      <td>train-other-500</td>\n",
       "      <td>30.07</td>\n",
       "      <td>Gesine</td>\n",
       "    </tr>\n",
       "  </tbody>\n",
       "</table>\n",
       "</div>"
      ],
      "text/plain": [
       "   ID SEX           SUBSET  MINUTES             NAME\n",
       "0  14   F  train-clean-360    25.03   KristinLeMoine\n",
       "1  16   F  train-clean-360    25.11    AlysAtteWater\n",
       "2  17   M  train-clean-360    25.04    GordMackenzie\n",
       "3  19   F  train-clean-100    25.19  KaraShallenberg\n",
       "4  20   F  train-other-500    30.07           Gesine"
      ]
     },
     "execution_count": 2,
     "metadata": {},
     "output_type": "execute_result"
    }
   ],
   "source": [
    "df=pd.read_csv('SPEAKERS.csv')\n",
    "df.head(5)"
   ]
  },
  {
   "cell_type": "code",
   "execution_count": 3,
   "metadata": {},
   "outputs": [],
   "source": [
    "list_of_IDs=glob.glob(\"dev-clean/*\")"
   ]
  },
  {
   "cell_type": "code",
   "execution_count": 41,
   "metadata": {},
   "outputs": [
    {
     "data": {
      "text/plain": [
       "['dev-clean/8842\\\\302196\\\\8842-302196-0000.flac',\n",
       " 'dev-clean/8842\\\\302196\\\\8842-302196-0001.flac',\n",
       " 'dev-clean/8842\\\\302196\\\\8842-302196-0002.flac',\n",
       " 'dev-clean/8842\\\\302196\\\\8842-302196-0003.flac',\n",
       " 'dev-clean/8842\\\\302196\\\\8842-302196-0004.flac',\n",
       " 'dev-clean/8842\\\\302196\\\\8842-302196-0005.flac',\n",
       " 'dev-clean/8842\\\\302196\\\\8842-302196-0006.flac',\n",
       " 'dev-clean/8842\\\\302196\\\\8842-302196-0007.flac',\n",
       " 'dev-clean/8842\\\\302196\\\\8842-302196-0008.flac',\n",
       " 'dev-clean/8842\\\\302196\\\\8842-302196-0009.flac',\n",
       " 'dev-clean/8842\\\\302196\\\\8842-302196-0010.flac',\n",
       " 'dev-clean/8842\\\\302196\\\\8842-302196-0011.flac',\n",
       " 'dev-clean/8842\\\\302196\\\\8842-302196-0012.flac',\n",
       " 'dev-clean/8842\\\\302201\\\\8842-302201-0000.flac',\n",
       " 'dev-clean/8842\\\\302201\\\\8842-302201-0001.flac',\n",
       " 'dev-clean/8842\\\\302201\\\\8842-302201-0002.flac',\n",
       " 'dev-clean/8842\\\\302201\\\\8842-302201-0003.flac',\n",
       " 'dev-clean/8842\\\\302201\\\\8842-302201-0004.flac',\n",
       " 'dev-clean/8842\\\\302201\\\\8842-302201-0005.flac',\n",
       " 'dev-clean/8842\\\\302201\\\\8842-302201-0006.flac',\n",
       " 'dev-clean/8842\\\\302201\\\\8842-302201-0007.flac',\n",
       " 'dev-clean/8842\\\\302201\\\\8842-302201-0008.flac',\n",
       " 'dev-clean/8842\\\\302201\\\\8842-302201-0009.flac',\n",
       " 'dev-clean/8842\\\\302201\\\\8842-302201-0010.flac',\n",
       " 'dev-clean/8842\\\\302201\\\\8842-302201-0011.flac',\n",
       " 'dev-clean/8842\\\\302201\\\\8842-302201-0012.flac',\n",
       " 'dev-clean/8842\\\\302201\\\\8842-302201-0013.flac',\n",
       " 'dev-clean/8842\\\\302201\\\\8842-302201-0014.flac',\n",
       " 'dev-clean/8842\\\\302201\\\\8842-302201-0015.flac',\n",
       " 'dev-clean/8842\\\\302203\\\\8842-302203-0000.flac',\n",
       " 'dev-clean/8842\\\\302203\\\\8842-302203-0001.flac',\n",
       " 'dev-clean/8842\\\\302203\\\\8842-302203-0002.flac',\n",
       " 'dev-clean/8842\\\\302203\\\\8842-302203-0003.flac',\n",
       " 'dev-clean/8842\\\\302203\\\\8842-302203-0004.flac',\n",
       " 'dev-clean/8842\\\\302203\\\\8842-302203-0005.flac',\n",
       " 'dev-clean/8842\\\\302203\\\\8842-302203-0006.flac',\n",
       " 'dev-clean/8842\\\\302203\\\\8842-302203-0007.flac',\n",
       " 'dev-clean/8842\\\\302203\\\\8842-302203-0008.flac',\n",
       " 'dev-clean/8842\\\\302203\\\\8842-302203-0009.flac',\n",
       " 'dev-clean/8842\\\\302203\\\\8842-302203-0010.flac',\n",
       " 'dev-clean/8842\\\\302203\\\\8842-302203-0011.flac',\n",
       " 'dev-clean/8842\\\\304647\\\\8842-304647-0000.flac',\n",
       " 'dev-clean/8842\\\\304647\\\\8842-304647-0001.flac',\n",
       " 'dev-clean/8842\\\\304647\\\\8842-304647-0002.flac',\n",
       " 'dev-clean/8842\\\\304647\\\\8842-304647-0003.flac',\n",
       " 'dev-clean/8842\\\\304647\\\\8842-304647-0004.flac',\n",
       " 'dev-clean/8842\\\\304647\\\\8842-304647-0005.flac',\n",
       " 'dev-clean/8842\\\\304647\\\\8842-304647-0006.flac',\n",
       " 'dev-clean/8842\\\\304647\\\\8842-304647-0007.flac',\n",
       " 'dev-clean/8842\\\\304647\\\\8842-304647-0008.flac',\n",
       " 'dev-clean/8842\\\\304647\\\\8842-304647-0009.flac',\n",
       " 'dev-clean/8842\\\\304647\\\\8842-304647-0010.flac',\n",
       " 'dev-clean/8842\\\\304647\\\\8842-304647-0011.flac',\n",
       " 'dev-clean/8842\\\\304647\\\\8842-304647-0012.flac',\n",
       " 'dev-clean/8842\\\\304647\\\\8842-304647-0013.flac']"
      ]
     },
     "execution_count": 41,
     "metadata": {},
     "output_type": "execute_result"
    }
   ],
   "source": [
    "glob.glob(l.replace('\\\\', '/')+'/*/*.flac')"
   ]
  },
  {
   "cell_type": "code",
   "execution_count": 62,
   "metadata": {},
   "outputs": [
    {
     "ename": "ValueError",
     "evalue": "File format b'fLaC'... not understood.",
     "output_type": "error",
     "traceback": [
      "\u001b[1;31m---------------------------------------------------------------------------\u001b[0m",
      "\u001b[1;31mValueError\u001b[0m                                Traceback (most recent call last)",
      "\u001b[1;32m<ipython-input-62-0ef9f6d303c6>\u001b[0m in \u001b[0;36m<module>\u001b[1;34m\u001b[0m\n\u001b[0;32m      1\u001b[0m \u001b[1;32mimport\u001b[0m \u001b[0mscipy\u001b[0m\u001b[1;33m.\u001b[0m\u001b[0mio\u001b[0m\u001b[1;33m.\u001b[0m\u001b[0mwavfile\u001b[0m \u001b[1;32mas\u001b[0m \u001b[0mwav\u001b[0m\u001b[1;33m\u001b[0m\u001b[1;33m\u001b[0m\u001b[0m\n\u001b[1;32m----> 2\u001b[1;33m \u001b[1;33m(\u001b[0m\u001b[0mrate\u001b[0m\u001b[1;33m,\u001b[0m \u001b[0msig\u001b[0m\u001b[1;33m)\u001b[0m \u001b[1;33m=\u001b[0m \u001b[0mwav\u001b[0m\u001b[1;33m.\u001b[0m\u001b[0mread\u001b[0m\u001b[1;33m(\u001b[0m\u001b[1;34m\"C:\\\\Users\\\\ARNAB\\\\Desktop\\\\voiseed\\\\LibriSpeech\\\\dev-clean\\\\8842\\\\304647\\\\8842-304647-0013.flac\"\u001b[0m\u001b[1;33m)\u001b[0m\u001b[1;33m\u001b[0m\u001b[1;33m\u001b[0m\u001b[0m\n\u001b[0m",
      "\u001b[1;32m~\\Anaconda3\\envs\\exercise\\lib\\site-packages\\scipy\\io\\wavfile.py\u001b[0m in \u001b[0;36mread\u001b[1;34m(filename, mmap)\u001b[0m\n\u001b[0;32m    265\u001b[0m \u001b[1;33m\u001b[0m\u001b[0m\n\u001b[0;32m    266\u001b[0m     \u001b[1;32mtry\u001b[0m\u001b[1;33m:\u001b[0m\u001b[1;33m\u001b[0m\u001b[1;33m\u001b[0m\u001b[0m\n\u001b[1;32m--> 267\u001b[1;33m         \u001b[0mfile_size\u001b[0m\u001b[1;33m,\u001b[0m \u001b[0mis_big_endian\u001b[0m \u001b[1;33m=\u001b[0m \u001b[0m_read_riff_chunk\u001b[0m\u001b[1;33m(\u001b[0m\u001b[0mfid\u001b[0m\u001b[1;33m)\u001b[0m\u001b[1;33m\u001b[0m\u001b[1;33m\u001b[0m\u001b[0m\n\u001b[0m\u001b[0;32m    268\u001b[0m         \u001b[0mfmt_chunk_received\u001b[0m \u001b[1;33m=\u001b[0m \u001b[1;32mFalse\u001b[0m\u001b[1;33m\u001b[0m\u001b[1;33m\u001b[0m\u001b[0m\n\u001b[0;32m    269\u001b[0m         \u001b[0mdata_chunk_received\u001b[0m \u001b[1;33m=\u001b[0m \u001b[1;32mFalse\u001b[0m\u001b[1;33m\u001b[0m\u001b[1;33m\u001b[0m\u001b[0m\n",
      "\u001b[1;32m~\\Anaconda3\\envs\\exercise\\lib\\site-packages\\scipy\\io\\wavfile.py\u001b[0m in \u001b[0;36m_read_riff_chunk\u001b[1;34m(fid)\u001b[0m\n\u001b[0;32m    166\u001b[0m         \u001b[1;31m# There are also .wav files with \"FFIR\" or \"XFIR\" signatures?\u001b[0m\u001b[1;33m\u001b[0m\u001b[1;33m\u001b[0m\u001b[1;33m\u001b[0m\u001b[0m\n\u001b[0;32m    167\u001b[0m         raise ValueError(\"File format {}... not \"\n\u001b[1;32m--> 168\u001b[1;33m                          \"understood.\".format(repr(str1)))\n\u001b[0m\u001b[0;32m    169\u001b[0m \u001b[1;33m\u001b[0m\u001b[0m\n\u001b[0;32m    170\u001b[0m     \u001b[1;31m# Size of entire file\u001b[0m\u001b[1;33m\u001b[0m\u001b[1;33m\u001b[0m\u001b[1;33m\u001b[0m\u001b[0m\n",
      "\u001b[1;31mValueError\u001b[0m: File format b'fLaC'... not understood."
     ]
    }
   ],
   "source": [
    "import scipy.io.wavfile as wav\n",
    "(rate, sig) = wav.read(\"C:\\\\Users\\\\ARNAB\\\\Desktop\\\\voiseed\\\\LibriSpeech\\\\dev-clean\\\\8842\\\\304647\\\\8842-304647-0013.flac\")"
   ]
  },
  {
   "cell_type": "code",
   "execution_count": 28,
   "metadata": {},
   "outputs": [],
   "source": [
    "d={}\n",
    "M_dest=''\n",
    "F_dest=''\n",
    "c_M=0\n",
    "c_F=0\n",
    "for l in list_of_IDs:\n",
    "    pid=l.split('\\\\')[1]\n",
    "    if df.loc[df['ID'] == int(pid)].SEX.values=='M':\n",
    "        d[str(l)]='M'\n",
    "        c_M+=1\n",
    "    if df.loc[df['ID'] == int(pid)].SEX.values=='F':\n",
    "        d[str(l)]='F'\n",
    "        c_F+=1\n",
    "#     copyfile(src, dst)"
   ]
  },
  {
   "cell_type": "code",
   "execution_count": 30,
   "metadata": {},
   "outputs": [
    {
     "name": "stdout",
     "output_type": "stream",
     "text": [
      "20 20\n"
     ]
    }
   ],
   "source": [
    "print(c_M,c_F)"
   ]
  },
  {
   "cell_type": "code",
   "execution_count": 31,
   "metadata": {},
   "outputs": [
    {
     "name": "stdout",
     "output_type": "stream",
     "text": [
      "dev-clean\\1272 M\n",
      "dev-clean\\1462 F\n",
      "dev-clean\\1673 F\n",
      "dev-clean\\174 M\n",
      "dev-clean\\1919 F\n",
      "dev-clean\\1988 F\n",
      "dev-clean\\1993 F\n",
      "dev-clean\\2035 F\n",
      "dev-clean\\2078 M\n",
      "dev-clean\\2086 M\n",
      "dev-clean\\2277 F\n",
      "dev-clean\\2412 F\n",
      "dev-clean\\2428 M\n",
      "dev-clean\\251 M\n",
      "dev-clean\\2803 M\n",
      "dev-clean\\2902 M\n",
      "dev-clean\\3000 M\n",
      "dev-clean\\3081 F\n",
      "dev-clean\\3170 M\n",
      "dev-clean\\3536 F\n",
      "dev-clean\\3576 F\n",
      "dev-clean\\3752 M\n",
      "dev-clean\\3853 F\n",
      "dev-clean\\422 M\n",
      "dev-clean\\5338 F\n",
      "dev-clean\\5536 M\n",
      "dev-clean\\5694 M\n",
      "dev-clean\\5895 F\n",
      "dev-clean\\6241 M\n",
      "dev-clean\\6295 M\n",
      "dev-clean\\6313 F\n",
      "dev-clean\\6319 F\n",
      "dev-clean\\6345 F\n",
      "dev-clean\\652 M\n",
      "dev-clean\\777 M\n",
      "dev-clean\\7850 F\n",
      "dev-clean\\7976 M\n",
      "dev-clean\\8297 M\n",
      "dev-clean\\84 F\n",
      "dev-clean\\8842 F\n"
     ]
    }
   ],
   "source": [
    "for key, value in d.items():\n",
    "    l1=glob.glob(key.replace('\\\\', '/')+'/*/*.flac')\n",
    "    if value=='M':\n",
    "        "
   ]
  },
  {
   "cell_type": "code",
   "execution_count": 6,
   "metadata": {},
   "outputs": [
    {
     "name": "stderr",
     "output_type": "stream",
     "text": [
      "This install of SoX cannot process .flac files.\n",
      "This install of SoX cannot process .wav files.\n",
      "OSError: SoX failed! [WinError 2] The system cannot find the file specified\n"
     ]
    },
    {
     "ename": "SoxError",
     "evalue": "Stdout: None\nStderr: None",
     "output_type": "error",
     "traceback": [
      "\u001b[1;31m---------------------------------------------------------------------------\u001b[0m",
      "\u001b[1;31mSoxError\u001b[0m                                  Traceback (most recent call last)",
      "\u001b[1;32m<ipython-input-6-1a16a88bd213>\u001b[0m in \u001b[0;36m<module>\u001b[1;34m\u001b[0m\n\u001b[0;32m      9\u001b[0m     \u001b[0mtfm\u001b[0m \u001b[1;33m=\u001b[0m \u001b[0mTransformer\u001b[0m\u001b[1;33m(\u001b[0m\u001b[1;33m)\u001b[0m\u001b[1;33m\u001b[0m\u001b[1;33m\u001b[0m\u001b[0m\n\u001b[0;32m     10\u001b[0m     \u001b[0mtfm\u001b[0m\u001b[1;33m.\u001b[0m\u001b[0mset_output_format\u001b[0m\u001b[1;33m(\u001b[0m\u001b[0mrate\u001b[0m\u001b[1;33m=\u001b[0m\u001b[0mSAMPLE_RATE\u001b[0m\u001b[1;33m)\u001b[0m\u001b[1;33m\u001b[0m\u001b[1;33m\u001b[0m\u001b[0m\n\u001b[1;32m---> 11\u001b[1;33m     \u001b[0mtfm\u001b[0m\u001b[1;33m.\u001b[0m\u001b[0mbuild\u001b[0m\u001b[1;33m(\u001b[0m\u001b[0mflac_file\u001b[0m\u001b[1;33m,\u001b[0m \u001b[0mwav_file\u001b[0m\u001b[1;33m)\u001b[0m\u001b[1;33m\u001b[0m\u001b[1;33m\u001b[0m\u001b[0m\n\u001b[0m\u001b[0;32m     12\u001b[0m \u001b[1;31m# wav_filesize = os.path.getsize(wav_file)\u001b[0m\u001b[1;33m\u001b[0m\u001b[1;33m\u001b[0m\u001b[1;33m\u001b[0m\u001b[0m\n\u001b[0;32m     13\u001b[0m \u001b[1;33m\u001b[0m\u001b[0m\n",
      "\u001b[1;32m~\\Anaconda3\\envs\\exercise\\lib\\site-packages\\sox\\transform.py\u001b[0m in \u001b[0;36mbuild\u001b[1;34m(self, input_filepath, output_filepath, extra_args, return_output)\u001b[0m\n\u001b[0;32m    439\u001b[0m         \u001b[1;32mif\u001b[0m \u001b[0mstatus\u001b[0m \u001b[1;33m!=\u001b[0m \u001b[1;36m0\u001b[0m\u001b[1;33m:\u001b[0m\u001b[1;33m\u001b[0m\u001b[1;33m\u001b[0m\u001b[0m\n\u001b[0;32m    440\u001b[0m             raise SoxError(\n\u001b[1;32m--> 441\u001b[1;33m                 \u001b[1;34m\"Stdout: {}\\nStderr: {}\"\u001b[0m\u001b[1;33m.\u001b[0m\u001b[0mformat\u001b[0m\u001b[1;33m(\u001b[0m\u001b[0mout\u001b[0m\u001b[1;33m,\u001b[0m \u001b[0merr\u001b[0m\u001b[1;33m)\u001b[0m\u001b[1;33m\u001b[0m\u001b[1;33m\u001b[0m\u001b[0m\n\u001b[0m\u001b[0;32m    442\u001b[0m             )\n\u001b[0;32m    443\u001b[0m         \u001b[1;32melse\u001b[0m\u001b[1;33m:\u001b[0m\u001b[1;33m\u001b[0m\u001b[1;33m\u001b[0m\u001b[0m\n",
      "\u001b[1;31mSoxError\u001b[0m: Stdout: None\nStderr: None"
     ]
    }
   ],
   "source": [
    "from sox import Transformer\n",
    "import os\n",
    "SAMPLE_RATE = 16000\n",
    "# flac_file = os.path.join(root, seqid + \".flac\")\n",
    "flac_file=\"C:\\\\Users\\\\ARNAB\\\\Desktop\\\\voiseed\\\\LibriSpeech\\\\dev-clean\\\\8842\\\\304647\\\\8842-304647-0013.flac\"\n",
    "# wav_file = os.path.join(target_dir, seqid + \".wav\")\n",
    "wav_file=\"C:\\\\Users\\\\ARNAB\\\\Desktop\\\\voiseed\\\\LibriSpeech\\\\dev-clean\\\\8842\\\\304647\\\\8842-304647-0013.wav\"\n",
    "if not os.path.exists(wav_file):\n",
    "    tfm = Transformer()\n",
    "    tfm.set_output_format(rate=SAMPLE_RATE)\n",
    "    tfm.build(flac_file, wav_file)\n",
    "# wav_filesize = os.path.getsize(wav_file)\n",
    "\n",
    "# files.append((os.path.abspath(wav_file), wav_filesize, transcript))\n"
   ]
  },
  {
   "cell_type": "code",
   "execution_count": 3,
   "metadata": {},
   "outputs": [],
   "source": [
    "from sox import Transformer"
   ]
  },
  {
   "cell_type": "code",
   "execution_count": null,
   "metadata": {},
   "outputs": [],
   "source": []
  }
 ],
 "metadata": {
  "kernelspec": {
   "display_name": "Python 3",
   "language": "python",
   "name": "python3"
  },
  "language_info": {
   "codemirror_mode": {
    "name": "ipython",
    "version": 3
   },
   "file_extension": ".py",
   "mimetype": "text/x-python",
   "name": "python",
   "nbconvert_exporter": "python",
   "pygments_lexer": "ipython3",
   "version": "3.7.7"
  }
 },
 "nbformat": 4,
 "nbformat_minor": 4
}
